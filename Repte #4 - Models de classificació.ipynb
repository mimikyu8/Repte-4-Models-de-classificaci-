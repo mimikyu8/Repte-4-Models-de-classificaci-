{
 "cells": [
  {
   "cell_type": "markdown",
   "id": "f324a1e9",
   "metadata": {},
   "source": [
    "# Models de classificació - Càncer de mama"
   ]
  },
  {
   "cell_type": "code",
   "execution_count": 2,
   "id": "16965bf7",
   "metadata": {
    "ExecuteTime": {
     "end_time": "2022-07-21T09:15:54.116151Z",
     "start_time": "2022-07-21T09:15:54.086346Z"
    }
   },
   "outputs": [],
   "source": [
    "#data exploration\n",
    "import pandas as pd\n",
    "import numpy as np\n",
    "import matplotlib.pyplot as plt\n",
    "import seaborn as sns\n",
    "from statsmodels.stats.outliers_influence import variance_inflation_factor\n",
    "\n",
    "#preprocessing libraries\n",
    "from sklearn.model_selection import cross_val_score\n",
    "from sklearn.model_selection import train_test_split, RepeatedKFold, GridSearchCV, KFold\n",
    "from sklearn.preprocessing import RobustScaler\n",
    "from sklearn.decomposition import PCA\n",
    "from sklearn.pipeline import Pipeline\n",
    "\n",
    "#model selection and algorithms\n",
    "from sklearn.ensemble import RandomForestClassifier\n",
    "from sklearn.linear_model import LogisticRegression\n",
    "from sklearn.neighbors import KNeighborsClassifier\n",
    "from sklearn.svm import SVC\n",
    "from sklearn.metrics import f1_score\n",
    "\n",
    "from tqdm import tqdm\n",
    "import time"
   ]
  },
  {
   "cell_type": "markdown",
   "id": "15f96778",
   "metadata": {},
   "source": [
    "## Exploració de les dades"
   ]
  },
  {
   "cell_type": "code",
   "execution_count": 3,
   "id": "c8595cdd",
   "metadata": {
    "ExecuteTime": {
     "end_time": "2022-07-21T09:15:58.917582Z",
     "start_time": "2022-07-21T09:15:58.869613Z"
    }
   },
   "outputs": [
    {
     "data": {
      "text/html": [
       "<div>\n",
       "<style scoped>\n",
       "    .dataframe tbody tr th:only-of-type {\n",
       "        vertical-align: middle;\n",
       "    }\n",
       "\n",
       "    .dataframe tbody tr th {\n",
       "        vertical-align: top;\n",
       "    }\n",
       "\n",
       "    .dataframe thead th {\n",
       "        text-align: right;\n",
       "    }\n",
       "</style>\n",
       "<table border=\"1\" class=\"dataframe\">\n",
       "  <thead>\n",
       "    <tr style=\"text-align: right;\">\n",
       "      <th></th>\n",
       "      <th>diagnosis</th>\n",
       "      <th>radius_mean</th>\n",
       "      <th>texture_mean</th>\n",
       "      <th>perimeter_mean</th>\n",
       "      <th>area_mean</th>\n",
       "      <th>smoothness_mean</th>\n",
       "      <th>compactness_mean</th>\n",
       "      <th>concavity_mean</th>\n",
       "      <th>concave points_mean</th>\n",
       "      <th>symmetry_mean</th>\n",
       "      <th>...</th>\n",
       "      <th>radius_worst</th>\n",
       "      <th>texture_worst</th>\n",
       "      <th>perimeter_worst</th>\n",
       "      <th>area_worst</th>\n",
       "      <th>smoothness_worst</th>\n",
       "      <th>compactness_worst</th>\n",
       "      <th>concavity_worst</th>\n",
       "      <th>concave points_worst</th>\n",
       "      <th>symmetry_worst</th>\n",
       "      <th>fractal_dimension_worst</th>\n",
       "    </tr>\n",
       "  </thead>\n",
       "  <tbody>\n",
       "    <tr>\n",
       "      <th>0</th>\n",
       "      <td>0</td>\n",
       "      <td>10.71</td>\n",
       "      <td>20.39</td>\n",
       "      <td>69.50</td>\n",
       "      <td>344.9</td>\n",
       "      <td>0.10820</td>\n",
       "      <td>0.12890</td>\n",
       "      <td>0.08448</td>\n",
       "      <td>0.02867</td>\n",
       "      <td>0.1668</td>\n",
       "      <td>...</td>\n",
       "      <td>11.69</td>\n",
       "      <td>25.21</td>\n",
       "      <td>76.51</td>\n",
       "      <td>410.4</td>\n",
       "      <td>0.1335</td>\n",
       "      <td>0.2550</td>\n",
       "      <td>0.2534</td>\n",
       "      <td>0.08600</td>\n",
       "      <td>0.2605</td>\n",
       "      <td>0.08701</td>\n",
       "    </tr>\n",
       "    <tr>\n",
       "      <th>1</th>\n",
       "      <td>0</td>\n",
       "      <td>13.64</td>\n",
       "      <td>16.34</td>\n",
       "      <td>87.21</td>\n",
       "      <td>571.8</td>\n",
       "      <td>0.07685</td>\n",
       "      <td>0.06059</td>\n",
       "      <td>0.01857</td>\n",
       "      <td>0.01723</td>\n",
       "      <td>0.1353</td>\n",
       "      <td>...</td>\n",
       "      <td>14.67</td>\n",
       "      <td>23.19</td>\n",
       "      <td>96.08</td>\n",
       "      <td>656.7</td>\n",
       "      <td>0.1089</td>\n",
       "      <td>0.1582</td>\n",
       "      <td>0.1050</td>\n",
       "      <td>0.08586</td>\n",
       "      <td>0.2346</td>\n",
       "      <td>0.08025</td>\n",
       "    </tr>\n",
       "    <tr>\n",
       "      <th>2</th>\n",
       "      <td>0</td>\n",
       "      <td>11.71</td>\n",
       "      <td>17.19</td>\n",
       "      <td>74.68</td>\n",
       "      <td>420.3</td>\n",
       "      <td>0.09774</td>\n",
       "      <td>0.06141</td>\n",
       "      <td>0.03809</td>\n",
       "      <td>0.03239</td>\n",
       "      <td>0.1516</td>\n",
       "      <td>...</td>\n",
       "      <td>13.01</td>\n",
       "      <td>21.39</td>\n",
       "      <td>84.42</td>\n",
       "      <td>521.5</td>\n",
       "      <td>0.1323</td>\n",
       "      <td>0.1040</td>\n",
       "      <td>0.1521</td>\n",
       "      <td>0.10990</td>\n",
       "      <td>0.2572</td>\n",
       "      <td>0.07097</td>\n",
       "    </tr>\n",
       "    <tr>\n",
       "      <th>3</th>\n",
       "      <td>1</td>\n",
       "      <td>15.30</td>\n",
       "      <td>25.27</td>\n",
       "      <td>102.40</td>\n",
       "      <td>732.4</td>\n",
       "      <td>0.10820</td>\n",
       "      <td>0.16970</td>\n",
       "      <td>0.16830</td>\n",
       "      <td>0.08751</td>\n",
       "      <td>0.1926</td>\n",
       "      <td>...</td>\n",
       "      <td>20.27</td>\n",
       "      <td>36.71</td>\n",
       "      <td>149.30</td>\n",
       "      <td>1269.0</td>\n",
       "      <td>0.1641</td>\n",
       "      <td>0.6110</td>\n",
       "      <td>0.6335</td>\n",
       "      <td>0.20240</td>\n",
       "      <td>0.4027</td>\n",
       "      <td>0.09876</td>\n",
       "    </tr>\n",
       "    <tr>\n",
       "      <th>4</th>\n",
       "      <td>1</td>\n",
       "      <td>14.45</td>\n",
       "      <td>20.22</td>\n",
       "      <td>94.49</td>\n",
       "      <td>642.7</td>\n",
       "      <td>0.09872</td>\n",
       "      <td>0.12060</td>\n",
       "      <td>0.11800</td>\n",
       "      <td>0.05980</td>\n",
       "      <td>0.1950</td>\n",
       "      <td>...</td>\n",
       "      <td>18.33</td>\n",
       "      <td>30.12</td>\n",
       "      <td>117.90</td>\n",
       "      <td>1044.0</td>\n",
       "      <td>0.1552</td>\n",
       "      <td>0.4056</td>\n",
       "      <td>0.4967</td>\n",
       "      <td>0.18380</td>\n",
       "      <td>0.4753</td>\n",
       "      <td>0.10130</td>\n",
       "    </tr>\n",
       "  </tbody>\n",
       "</table>\n",
       "<p>5 rows × 31 columns</p>\n",
       "</div>"
      ],
      "text/plain": [
       "   diagnosis  radius_mean  texture_mean  perimeter_mean  area_mean  \\\n",
       "0          0        10.71         20.39           69.50      344.9   \n",
       "1          0        13.64         16.34           87.21      571.8   \n",
       "2          0        11.71         17.19           74.68      420.3   \n",
       "3          1        15.30         25.27          102.40      732.4   \n",
       "4          1        14.45         20.22           94.49      642.7   \n",
       "\n",
       "   smoothness_mean  compactness_mean  concavity_mean  concave points_mean  \\\n",
       "0          0.10820           0.12890         0.08448              0.02867   \n",
       "1          0.07685           0.06059         0.01857              0.01723   \n",
       "2          0.09774           0.06141         0.03809              0.03239   \n",
       "3          0.10820           0.16970         0.16830              0.08751   \n",
       "4          0.09872           0.12060         0.11800              0.05980   \n",
       "\n",
       "   symmetry_mean  ...  radius_worst  texture_worst  perimeter_worst  \\\n",
       "0         0.1668  ...         11.69          25.21            76.51   \n",
       "1         0.1353  ...         14.67          23.19            96.08   \n",
       "2         0.1516  ...         13.01          21.39            84.42   \n",
       "3         0.1926  ...         20.27          36.71           149.30   \n",
       "4         0.1950  ...         18.33          30.12           117.90   \n",
       "\n",
       "   area_worst  smoothness_worst  compactness_worst  concavity_worst  \\\n",
       "0       410.4            0.1335             0.2550           0.2534   \n",
       "1       656.7            0.1089             0.1582           0.1050   \n",
       "2       521.5            0.1323             0.1040           0.1521   \n",
       "3      1269.0            0.1641             0.6110           0.6335   \n",
       "4      1044.0            0.1552             0.4056           0.4967   \n",
       "\n",
       "   concave points_worst  symmetry_worst  fractal_dimension_worst  \n",
       "0               0.08600          0.2605                  0.08701  \n",
       "1               0.08586          0.2346                  0.08025  \n",
       "2               0.10990          0.2572                  0.07097  \n",
       "3               0.20240          0.4027                  0.09876  \n",
       "4               0.18380          0.4753                  0.10130  \n",
       "\n",
       "[5 rows x 31 columns]"
      ]
     },
     "execution_count": 3,
     "metadata": {},
     "output_type": "execute_result"
    }
   ],
   "source": [
    "df = pd.read_csv(\"train.csv\")\n",
    "\n",
    "df.head()"
   ]
  },
  {
   "cell_type": "code",
   "execution_count": 5,
   "id": "5bd37078",
   "metadata": {
    "ExecuteTime": {
     "end_time": "2022-07-21T07:42:45.342997Z",
     "start_time": "2022-07-21T07:42:45.337014Z"
    }
   },
   "outputs": [
    {
     "data": {
      "text/plain": [
       "(455, 31)"
      ]
     },
     "execution_count": 5,
     "metadata": {},
     "output_type": "execute_result"
    }
   ],
   "source": [
    "df.shape"
   ]
  },
  {
   "cell_type": "code",
   "execution_count": 7,
   "id": "66025bce",
   "metadata": {
    "ExecuteTime": {
     "end_time": "2022-07-21T07:43:29.973009Z",
     "start_time": "2022-07-21T07:43:29.960004Z"
    }
   },
   "outputs": [
    {
     "data": {
      "text/plain": [
       "diagnosis                    int64\n",
       "radius_mean                float64\n",
       "texture_mean               float64\n",
       "perimeter_mean             float64\n",
       "area_mean                  float64\n",
       "smoothness_mean            float64\n",
       "compactness_mean           float64\n",
       "concavity_mean             float64\n",
       "concave points_mean        float64\n",
       "symmetry_mean              float64\n",
       "fractal_dimension_mean     float64\n",
       "radius_se                  float64\n",
       "texture_se                 float64\n",
       "perimeter_se               float64\n",
       "area_se                    float64\n",
       "smoothness_se              float64\n",
       "compactness_se             float64\n",
       "concavity_se               float64\n",
       "concave points_se          float64\n",
       "symmetry_se                float64\n",
       "fractal_dimension_se       float64\n",
       "radius_worst               float64\n",
       "texture_worst              float64\n",
       "perimeter_worst            float64\n",
       "area_worst                 float64\n",
       "smoothness_worst           float64\n",
       "compactness_worst          float64\n",
       "concavity_worst            float64\n",
       "concave points_worst       float64\n",
       "symmetry_worst             float64\n",
       "fractal_dimension_worst    float64\n",
       "dtype: object"
      ]
     },
     "execution_count": 7,
     "metadata": {},
     "output_type": "execute_result"
    }
   ],
   "source": [
    "df.dtypes"
   ]
  },
  {
   "cell_type": "markdown",
   "id": "e3df3add",
   "metadata": {},
   "source": [
    "Aquest dataset conté dades de dones sanes i dones diagnosticades amb càncer de mama, així com certes característiques de cèl·lules que s'han pres durant una punció-aspiració d'agulla fina (PAAF). Recull deu característiques mesurades als nuclis cel·lulars en imatges preses després de la PAAF, que són:\n",
    "* El radi (la mitjana de les distàncies del centre als punts del perímetre)\n",
    "* La textura (la desviació estàndar dels valors de la escala de grisos)\n",
    "* El perímetre\n",
    "* L'àrea\n",
    "* L'uniformitat (variació local de les longituts del radi)\n",
    "* Compacitat ($\\frac{perímetre^2}{àrea - 1} \\\\ $)\n",
    "* Concavitat (gravetat de les parts còncaves del contorn)\n",
    "* Punts còncaus (número de parts còncaves del contorn)\n",
    "* Simetria\n",
    "* Dimensió fractal\n",
    "\n",
    "D'aquestes característiques, es recullen al dataset la mitjana (columnes acabades en \\_mean), l'error estàndar (columnes acabades en \\_se), i el pitjor valor, o el més gran (columnes acabades en \\_worst). També es recull el diagnosi, amb un 0 si és benigne, i amb un 1 si és maligne. \n",
    "[font](https://archive.ics.uci.edu/ml/datasets/Breast+Cancer+Wisconsin+%28Diagnostic%29)\n",
    "\n",
    "En total, el dataset conté 31 columnes i 455 files. Ara s'explorarà el dataset per saber si hi ha dades faltants i quina es la proporció de diagnosis positives i diagnosis negatives. "
   ]
  },
  {
   "cell_type": "code",
   "execution_count": 8,
   "id": "47282e55",
   "metadata": {
    "ExecuteTime": {
     "end_time": "2022-07-21T08:13:34.475167Z",
     "start_time": "2022-07-21T08:13:34.427294Z"
    }
   },
   "outputs": [
    {
     "data": {
      "text/plain": [
       "diagnosis                  0\n",
       "radius_mean                0\n",
       "texture_mean               0\n",
       "perimeter_mean             0\n",
       "area_mean                  0\n",
       "smoothness_mean            0\n",
       "compactness_mean           0\n",
       "concavity_mean             0\n",
       "concave points_mean        0\n",
       "symmetry_mean              0\n",
       "fractal_dimension_mean     0\n",
       "radius_se                  0\n",
       "texture_se                 0\n",
       "perimeter_se               0\n",
       "area_se                    0\n",
       "smoothness_se              0\n",
       "compactness_se             0\n",
       "concavity_se               0\n",
       "concave points_se          0\n",
       "symmetry_se                0\n",
       "fractal_dimension_se       0\n",
       "radius_worst               0\n",
       "texture_worst              0\n",
       "perimeter_worst            0\n",
       "area_worst                 0\n",
       "smoothness_worst           0\n",
       "compactness_worst          0\n",
       "concavity_worst            0\n",
       "concave points_worst       0\n",
       "symmetry_worst             0\n",
       "fractal_dimension_worst    0\n",
       "dtype: int64"
      ]
     },
     "execution_count": 8,
     "metadata": {},
     "output_type": "execute_result"
    }
   ],
   "source": [
    "df.isna().sum()"
   ]
  },
  {
   "cell_type": "code",
   "execution_count": 4,
   "id": "16af4b4b",
   "metadata": {
    "ExecuteTime": {
     "end_time": "2022-07-21T09:16:07.572601Z",
     "start_time": "2022-07-21T09:16:07.468668Z"
    }
   },
   "outputs": [
    {
     "data": {
      "text/html": [
       "<div>\n",
       "<style scoped>\n",
       "    .dataframe tbody tr th:only-of-type {\n",
       "        vertical-align: middle;\n",
       "    }\n",
       "\n",
       "    .dataframe tbody tr th {\n",
       "        vertical-align: top;\n",
       "    }\n",
       "\n",
       "    .dataframe thead th {\n",
       "        text-align: right;\n",
       "    }\n",
       "</style>\n",
       "<table border=\"1\" class=\"dataframe\">\n",
       "  <thead>\n",
       "    <tr style=\"text-align: right;\">\n",
       "      <th></th>\n",
       "      <th>count</th>\n",
       "      <th>mean</th>\n",
       "      <th>std</th>\n",
       "      <th>min</th>\n",
       "      <th>25%</th>\n",
       "      <th>50%</th>\n",
       "      <th>75%</th>\n",
       "      <th>max</th>\n",
       "    </tr>\n",
       "  </thead>\n",
       "  <tbody>\n",
       "    <tr>\n",
       "      <th>radius_mean</th>\n",
       "      <td>455.0</td>\n",
       "      <td>14.139000</td>\n",
       "      <td>3.625935</td>\n",
       "      <td>6.981000</td>\n",
       "      <td>11.705000</td>\n",
       "      <td>13.300000</td>\n",
       "      <td>15.740000</td>\n",
       "      <td>28.11000</td>\n",
       "    </tr>\n",
       "    <tr>\n",
       "      <th>texture_mean</th>\n",
       "      <td>455.0</td>\n",
       "      <td>19.306286</td>\n",
       "      <td>4.267421</td>\n",
       "      <td>9.710000</td>\n",
       "      <td>16.210000</td>\n",
       "      <td>18.890000</td>\n",
       "      <td>21.795000</td>\n",
       "      <td>39.28000</td>\n",
       "    </tr>\n",
       "    <tr>\n",
       "      <th>perimeter_mean</th>\n",
       "      <td>455.0</td>\n",
       "      <td>92.086044</td>\n",
       "      <td>24.998077</td>\n",
       "      <td>43.790000</td>\n",
       "      <td>75.015000</td>\n",
       "      <td>85.980000</td>\n",
       "      <td>103.650000</td>\n",
       "      <td>188.50000</td>\n",
       "    </tr>\n",
       "    <tr>\n",
       "      <th>area_mean</th>\n",
       "      <td>455.0</td>\n",
       "      <td>657.829890</td>\n",
       "      <td>363.536865</td>\n",
       "      <td>143.500000</td>\n",
       "      <td>419.250000</td>\n",
       "      <td>546.400000</td>\n",
       "      <td>777.250000</td>\n",
       "      <td>2501.00000</td>\n",
       "    </tr>\n",
       "    <tr>\n",
       "      <th>smoothness_mean</th>\n",
       "      <td>455.0</td>\n",
       "      <td>0.096849</td>\n",
       "      <td>0.013981</td>\n",
       "      <td>0.052630</td>\n",
       "      <td>0.086740</td>\n",
       "      <td>0.096860</td>\n",
       "      <td>0.106050</td>\n",
       "      <td>0.16340</td>\n",
       "    </tr>\n",
       "    <tr>\n",
       "      <th>compactness_mean</th>\n",
       "      <td>455.0</td>\n",
       "      <td>0.105557</td>\n",
       "      <td>0.052932</td>\n",
       "      <td>0.019380</td>\n",
       "      <td>0.066735</td>\n",
       "      <td>0.094860</td>\n",
       "      <td>0.130450</td>\n",
       "      <td>0.34540</td>\n",
       "    </tr>\n",
       "    <tr>\n",
       "      <th>concavity_mean</th>\n",
       "      <td>455.0</td>\n",
       "      <td>0.090775</td>\n",
       "      <td>0.080993</td>\n",
       "      <td>0.000000</td>\n",
       "      <td>0.030180</td>\n",
       "      <td>0.063870</td>\n",
       "      <td>0.132200</td>\n",
       "      <td>0.42680</td>\n",
       "    </tr>\n",
       "    <tr>\n",
       "      <th>concave points_mean</th>\n",
       "      <td>455.0</td>\n",
       "      <td>0.049585</td>\n",
       "      <td>0.039159</td>\n",
       "      <td>0.000000</td>\n",
       "      <td>0.020720</td>\n",
       "      <td>0.033840</td>\n",
       "      <td>0.074490</td>\n",
       "      <td>0.20120</td>\n",
       "    </tr>\n",
       "    <tr>\n",
       "      <th>symmetry_mean</th>\n",
       "      <td>455.0</td>\n",
       "      <td>0.181319</td>\n",
       "      <td>0.027140</td>\n",
       "      <td>0.116700</td>\n",
       "      <td>0.162050</td>\n",
       "      <td>0.179700</td>\n",
       "      <td>0.195800</td>\n",
       "      <td>0.30400</td>\n",
       "    </tr>\n",
       "    <tr>\n",
       "      <th>fractal_dimension_mean</th>\n",
       "      <td>455.0</td>\n",
       "      <td>0.062925</td>\n",
       "      <td>0.007045</td>\n",
       "      <td>0.049960</td>\n",
       "      <td>0.057885</td>\n",
       "      <td>0.061550</td>\n",
       "      <td>0.066375</td>\n",
       "      <td>0.09575</td>\n",
       "    </tr>\n",
       "    <tr>\n",
       "      <th>radius_se</th>\n",
       "      <td>455.0</td>\n",
       "      <td>0.403945</td>\n",
       "      <td>0.286415</td>\n",
       "      <td>0.114400</td>\n",
       "      <td>0.232350</td>\n",
       "      <td>0.318600</td>\n",
       "      <td>0.475950</td>\n",
       "      <td>2.87300</td>\n",
       "    </tr>\n",
       "    <tr>\n",
       "      <th>texture_se</th>\n",
       "      <td>455.0</td>\n",
       "      <td>1.213024</td>\n",
       "      <td>0.519653</td>\n",
       "      <td>0.362100</td>\n",
       "      <td>0.841800</td>\n",
       "      <td>1.108000</td>\n",
       "      <td>1.474500</td>\n",
       "      <td>3.64700</td>\n",
       "    </tr>\n",
       "    <tr>\n",
       "      <th>perimeter_se</th>\n",
       "      <td>455.0</td>\n",
       "      <td>2.846826</td>\n",
       "      <td>2.091831</td>\n",
       "      <td>0.757000</td>\n",
       "      <td>1.596500</td>\n",
       "      <td>2.244000</td>\n",
       "      <td>3.281500</td>\n",
       "      <td>21.98000</td>\n",
       "    </tr>\n",
       "    <tr>\n",
       "      <th>area_se</th>\n",
       "      <td>455.0</td>\n",
       "      <td>40.398501</td>\n",
       "      <td>47.691358</td>\n",
       "      <td>6.802000</td>\n",
       "      <td>17.695000</td>\n",
       "      <td>24.280000</td>\n",
       "      <td>45.295000</td>\n",
       "      <td>542.20000</td>\n",
       "    </tr>\n",
       "    <tr>\n",
       "      <th>smoothness_se</th>\n",
       "      <td>455.0</td>\n",
       "      <td>0.007067</td>\n",
       "      <td>0.003095</td>\n",
       "      <td>0.002667</td>\n",
       "      <td>0.005146</td>\n",
       "      <td>0.006261</td>\n",
       "      <td>0.008182</td>\n",
       "      <td>0.03113</td>\n",
       "    </tr>\n",
       "    <tr>\n",
       "      <th>compactness_se</th>\n",
       "      <td>455.0</td>\n",
       "      <td>0.025605</td>\n",
       "      <td>0.018202</td>\n",
       "      <td>0.002252</td>\n",
       "      <td>0.013635</td>\n",
       "      <td>0.020450</td>\n",
       "      <td>0.032045</td>\n",
       "      <td>0.13540</td>\n",
       "    </tr>\n",
       "    <tr>\n",
       "      <th>concavity_se</th>\n",
       "      <td>455.0</td>\n",
       "      <td>0.032376</td>\n",
       "      <td>0.031443</td>\n",
       "      <td>0.000000</td>\n",
       "      <td>0.015220</td>\n",
       "      <td>0.026110</td>\n",
       "      <td>0.040775</td>\n",
       "      <td>0.39600</td>\n",
       "    </tr>\n",
       "    <tr>\n",
       "      <th>concave points_se</th>\n",
       "      <td>455.0</td>\n",
       "      <td>0.011779</td>\n",
       "      <td>0.006082</td>\n",
       "      <td>0.000000</td>\n",
       "      <td>0.007766</td>\n",
       "      <td>0.010900</td>\n",
       "      <td>0.014600</td>\n",
       "      <td>0.05279</td>\n",
       "    </tr>\n",
       "    <tr>\n",
       "      <th>symmetry_se</th>\n",
       "      <td>455.0</td>\n",
       "      <td>0.020244</td>\n",
       "      <td>0.008006</td>\n",
       "      <td>0.007882</td>\n",
       "      <td>0.014985</td>\n",
       "      <td>0.018530</td>\n",
       "      <td>0.023085</td>\n",
       "      <td>0.07895</td>\n",
       "    </tr>\n",
       "    <tr>\n",
       "      <th>fractal_dimension_se</th>\n",
       "      <td>455.0</td>\n",
       "      <td>0.003814</td>\n",
       "      <td>0.002770</td>\n",
       "      <td>0.000895</td>\n",
       "      <td>0.002228</td>\n",
       "      <td>0.003211</td>\n",
       "      <td>0.004537</td>\n",
       "      <td>0.02984</td>\n",
       "    </tr>\n",
       "    <tr>\n",
       "      <th>radius_worst</th>\n",
       "      <td>455.0</td>\n",
       "      <td>16.276679</td>\n",
       "      <td>4.897917</td>\n",
       "      <td>7.930000</td>\n",
       "      <td>12.980000</td>\n",
       "      <td>14.990000</td>\n",
       "      <td>18.550000</td>\n",
       "      <td>36.04000</td>\n",
       "    </tr>\n",
       "    <tr>\n",
       "      <th>texture_worst</th>\n",
       "      <td>455.0</td>\n",
       "      <td>25.823099</td>\n",
       "      <td>6.123728</td>\n",
       "      <td>12.020000</td>\n",
       "      <td>21.350000</td>\n",
       "      <td>25.440000</td>\n",
       "      <td>29.990000</td>\n",
       "      <td>49.54000</td>\n",
       "    </tr>\n",
       "    <tr>\n",
       "      <th>perimeter_worst</th>\n",
       "      <td>455.0</td>\n",
       "      <td>107.319516</td>\n",
       "      <td>34.025815</td>\n",
       "      <td>50.410000</td>\n",
       "      <td>84.290000</td>\n",
       "      <td>97.660000</td>\n",
       "      <td>124.950000</td>\n",
       "      <td>251.20000</td>\n",
       "    </tr>\n",
       "    <tr>\n",
       "      <th>area_worst</th>\n",
       "      <td>455.0</td>\n",
       "      <td>882.553187</td>\n",
       "      <td>574.721873</td>\n",
       "      <td>185.200000</td>\n",
       "      <td>513.950000</td>\n",
       "      <td>688.600000</td>\n",
       "      <td>1047.000000</td>\n",
       "      <td>4254.00000</td>\n",
       "    </tr>\n",
       "    <tr>\n",
       "      <th>smoothness_worst</th>\n",
       "      <td>455.0</td>\n",
       "      <td>0.133482</td>\n",
       "      <td>0.022902</td>\n",
       "      <td>0.081250</td>\n",
       "      <td>0.118350</td>\n",
       "      <td>0.132600</td>\n",
       "      <td>0.147950</td>\n",
       "      <td>0.22260</td>\n",
       "    </tr>\n",
       "    <tr>\n",
       "      <th>compactness_worst</th>\n",
       "      <td>455.0</td>\n",
       "      <td>0.256997</td>\n",
       "      <td>0.157587</td>\n",
       "      <td>0.034320</td>\n",
       "      <td>0.151650</td>\n",
       "      <td>0.215600</td>\n",
       "      <td>0.333800</td>\n",
       "      <td>1.05800</td>\n",
       "    </tr>\n",
       "    <tr>\n",
       "      <th>concavity_worst</th>\n",
       "      <td>455.0</td>\n",
       "      <td>0.278242</td>\n",
       "      <td>0.211802</td>\n",
       "      <td>0.000000</td>\n",
       "      <td>0.119350</td>\n",
       "      <td>0.229900</td>\n",
       "      <td>0.387200</td>\n",
       "      <td>1.25200</td>\n",
       "    </tr>\n",
       "    <tr>\n",
       "      <th>concave points_worst</th>\n",
       "      <td>455.0</td>\n",
       "      <td>0.115695</td>\n",
       "      <td>0.065949</td>\n",
       "      <td>0.000000</td>\n",
       "      <td>0.065080</td>\n",
       "      <td>0.099930</td>\n",
       "      <td>0.161950</td>\n",
       "      <td>0.29100</td>\n",
       "    </tr>\n",
       "    <tr>\n",
       "      <th>symmetry_worst</th>\n",
       "      <td>455.0</td>\n",
       "      <td>0.290325</td>\n",
       "      <td>0.059696</td>\n",
       "      <td>0.156500</td>\n",
       "      <td>0.251550</td>\n",
       "      <td>0.283300</td>\n",
       "      <td>0.317500</td>\n",
       "      <td>0.57740</td>\n",
       "    </tr>\n",
       "    <tr>\n",
       "      <th>fractal_dimension_worst</th>\n",
       "      <td>455.0</td>\n",
       "      <td>0.084309</td>\n",
       "      <td>0.018168</td>\n",
       "      <td>0.055040</td>\n",
       "      <td>0.071835</td>\n",
       "      <td>0.080190</td>\n",
       "      <td>0.092070</td>\n",
       "      <td>0.20750</td>\n",
       "    </tr>\n",
       "  </tbody>\n",
       "</table>\n",
       "</div>"
      ],
      "text/plain": [
       "                         count        mean         std         min  \\\n",
       "radius_mean              455.0   14.139000    3.625935    6.981000   \n",
       "texture_mean             455.0   19.306286    4.267421    9.710000   \n",
       "perimeter_mean           455.0   92.086044   24.998077   43.790000   \n",
       "area_mean                455.0  657.829890  363.536865  143.500000   \n",
       "smoothness_mean          455.0    0.096849    0.013981    0.052630   \n",
       "compactness_mean         455.0    0.105557    0.052932    0.019380   \n",
       "concavity_mean           455.0    0.090775    0.080993    0.000000   \n",
       "concave points_mean      455.0    0.049585    0.039159    0.000000   \n",
       "symmetry_mean            455.0    0.181319    0.027140    0.116700   \n",
       "fractal_dimension_mean   455.0    0.062925    0.007045    0.049960   \n",
       "radius_se                455.0    0.403945    0.286415    0.114400   \n",
       "texture_se               455.0    1.213024    0.519653    0.362100   \n",
       "perimeter_se             455.0    2.846826    2.091831    0.757000   \n",
       "area_se                  455.0   40.398501   47.691358    6.802000   \n",
       "smoothness_se            455.0    0.007067    0.003095    0.002667   \n",
       "compactness_se           455.0    0.025605    0.018202    0.002252   \n",
       "concavity_se             455.0    0.032376    0.031443    0.000000   \n",
       "concave points_se        455.0    0.011779    0.006082    0.000000   \n",
       "symmetry_se              455.0    0.020244    0.008006    0.007882   \n",
       "fractal_dimension_se     455.0    0.003814    0.002770    0.000895   \n",
       "radius_worst             455.0   16.276679    4.897917    7.930000   \n",
       "texture_worst            455.0   25.823099    6.123728   12.020000   \n",
       "perimeter_worst          455.0  107.319516   34.025815   50.410000   \n",
       "area_worst               455.0  882.553187  574.721873  185.200000   \n",
       "smoothness_worst         455.0    0.133482    0.022902    0.081250   \n",
       "compactness_worst        455.0    0.256997    0.157587    0.034320   \n",
       "concavity_worst          455.0    0.278242    0.211802    0.000000   \n",
       "concave points_worst     455.0    0.115695    0.065949    0.000000   \n",
       "symmetry_worst           455.0    0.290325    0.059696    0.156500   \n",
       "fractal_dimension_worst  455.0    0.084309    0.018168    0.055040   \n",
       "\n",
       "                                25%         50%          75%         max  \n",
       "radius_mean               11.705000   13.300000    15.740000    28.11000  \n",
       "texture_mean              16.210000   18.890000    21.795000    39.28000  \n",
       "perimeter_mean            75.015000   85.980000   103.650000   188.50000  \n",
       "area_mean                419.250000  546.400000   777.250000  2501.00000  \n",
       "smoothness_mean            0.086740    0.096860     0.106050     0.16340  \n",
       "compactness_mean           0.066735    0.094860     0.130450     0.34540  \n",
       "concavity_mean             0.030180    0.063870     0.132200     0.42680  \n",
       "concave points_mean        0.020720    0.033840     0.074490     0.20120  \n",
       "symmetry_mean              0.162050    0.179700     0.195800     0.30400  \n",
       "fractal_dimension_mean     0.057885    0.061550     0.066375     0.09575  \n",
       "radius_se                  0.232350    0.318600     0.475950     2.87300  \n",
       "texture_se                 0.841800    1.108000     1.474500     3.64700  \n",
       "perimeter_se               1.596500    2.244000     3.281500    21.98000  \n",
       "area_se                   17.695000   24.280000    45.295000   542.20000  \n",
       "smoothness_se              0.005146    0.006261     0.008182     0.03113  \n",
       "compactness_se             0.013635    0.020450     0.032045     0.13540  \n",
       "concavity_se               0.015220    0.026110     0.040775     0.39600  \n",
       "concave points_se          0.007766    0.010900     0.014600     0.05279  \n",
       "symmetry_se                0.014985    0.018530     0.023085     0.07895  \n",
       "fractal_dimension_se       0.002228    0.003211     0.004537     0.02984  \n",
       "radius_worst              12.980000   14.990000    18.550000    36.04000  \n",
       "texture_worst             21.350000   25.440000    29.990000    49.54000  \n",
       "perimeter_worst           84.290000   97.660000   124.950000   251.20000  \n",
       "area_worst               513.950000  688.600000  1047.000000  4254.00000  \n",
       "smoothness_worst           0.118350    0.132600     0.147950     0.22260  \n",
       "compactness_worst          0.151650    0.215600     0.333800     1.05800  \n",
       "concavity_worst            0.119350    0.229900     0.387200     1.25200  \n",
       "concave points_worst       0.065080    0.099930     0.161950     0.29100  \n",
       "symmetry_worst             0.251550    0.283300     0.317500     0.57740  \n",
       "fractal_dimension_worst    0.071835    0.080190     0.092070     0.20750  "
      ]
     },
     "execution_count": 4,
     "metadata": {},
     "output_type": "execute_result"
    }
   ],
   "source": [
    "features = df.drop(\"diagnosis\", axis = 1)\n",
    "features.describe().transpose()"
   ]
  },
  {
   "cell_type": "code",
   "execution_count": 47,
   "id": "e73e944c",
   "metadata": {
    "ExecuteTime": {
     "end_time": "2022-07-21T10:27:02.052191Z",
     "start_time": "2022-07-21T10:27:01.846251Z"
    }
   },
   "outputs": [
    {
     "data": {
      "image/png": "[encoded data removed]",
      "text/plain": [
       "<Figure size 432x288 with 1 Axes>"
      ]
     },
     "metadata": {
      "needs_background": "light"
     },
     "output_type": "display_data"
    },
    {
     "data": {
      "text/plain": [
       "0    285\n",
       "1    170\n",
       "Name: diagnosis, dtype: int64"
      ]
     },
     "execution_count": 47,
     "metadata": {},
     "output_type": "execute_result"
    }
   ],
   "source": [
    "sns.countplot(x = df.diagnosis, palette = [\"#ff0f7b\", \"#f89b29\"]).set(\n",
    "    title = \"Diagnosis proportion\")\n",
    "plt.show()\n",
    "df.diagnosis.value_counts()"
   ]
  },
  {
   "cell_type": "markdown",
   "id": "7edcdbc6",
   "metadata": {},
   "source": [
    "No hi ha cap dada faltant, però sí que es troben molts valors atípics al dataset. De totes maneres, és poc probable que siguin dades malament introduides, ja que les cèl·lules canceroses es caracteritzen per tenir trets aberrants. El que indica és que s'haurà de realitzar un escalat de variables que sigui resistent a outliers. \n",
    "\n",
    "Així mateix, hi ha una mica de disparitat entre els valors de la variable a predir, però no excessivament. Els diagnòstics malignes de càncer de mama representen un 37% del dataset, i és probable que no calgui fer sobremostreig o submostreig (oversampling/undersampling) per entrenar correctament el model. "
   ]
  },
  {
   "cell_type": "code",
   "execution_count": 15,
   "id": "18fe08d8",
   "metadata": {
    "ExecuteTime": {
     "end_time": "2022-07-21T08:27:21.114438Z",
     "start_time": "2022-07-21T08:27:20.148633Z"
    }
   },
   "outputs": [
    {
     "data": {
      "text/html": [
       "<div>\n",
       "<style scoped>\n",
       "    .dataframe tbody tr th:only-of-type {\n",
       "        vertical-align: middle;\n",
       "    }\n",
       "\n",
       "    .dataframe tbody tr th {\n",
       "        vertical-align: top;\n",
       "    }\n",
       "\n",
       "    .dataframe thead th {\n",
       "        text-align: right;\n",
       "    }\n",
       "</style>\n",
       "<table border=\"1\" class=\"dataframe\">\n",
       "  <thead>\n",
       "    <tr style=\"text-align: right;\">\n",
       "      <th></th>\n",
       "      <th>variables</th>\n",
       "      <th>VIF</th>\n",
       "    </tr>\n",
       "  </thead>\n",
       "  <tbody>\n",
       "    <tr>\n",
       "      <th>0</th>\n",
       "      <td>radius_mean</td>\n",
       "      <td>68140.689954</td>\n",
       "    </tr>\n",
       "    <tr>\n",
       "      <th>1</th>\n",
       "      <td>texture_mean</td>\n",
       "      <td>275.029682</td>\n",
       "    </tr>\n",
       "    <tr>\n",
       "      <th>2</th>\n",
       "      <td>perimeter_mean</td>\n",
       "      <td>62322.593659</td>\n",
       "    </tr>\n",
       "    <tr>\n",
       "      <th>3</th>\n",
       "      <td>area_mean</td>\n",
       "      <td>1396.906507</td>\n",
       "    </tr>\n",
       "    <tr>\n",
       "      <th>4</th>\n",
       "      <td>smoothness_mean</td>\n",
       "      <td>386.134933</td>\n",
       "    </tr>\n",
       "    <tr>\n",
       "      <th>5</th>\n",
       "      <td>compactness_mean</td>\n",
       "      <td>201.658245</td>\n",
       "    </tr>\n",
       "    <tr>\n",
       "      <th>6</th>\n",
       "      <td>concavity_mean</td>\n",
       "      <td>166.489708</td>\n",
       "    </tr>\n",
       "    <tr>\n",
       "      <th>7</th>\n",
       "      <td>concave points_mean</td>\n",
       "      <td>153.353762</td>\n",
       "    </tr>\n",
       "    <tr>\n",
       "      <th>8</th>\n",
       "      <td>symmetry_mean</td>\n",
       "      <td>201.007699</td>\n",
       "    </tr>\n",
       "    <tr>\n",
       "      <th>9</th>\n",
       "      <td>fractal_dimension_mean</td>\n",
       "      <td>601.919448</td>\n",
       "    </tr>\n",
       "    <tr>\n",
       "      <th>10</th>\n",
       "      <td>radius_se</td>\n",
       "      <td>237.408234</td>\n",
       "    </tr>\n",
       "    <tr>\n",
       "      <th>11</th>\n",
       "      <td>texture_se</td>\n",
       "      <td>34.534966</td>\n",
       "    </tr>\n",
       "    <tr>\n",
       "      <th>12</th>\n",
       "      <td>perimeter_se</td>\n",
       "      <td>215.064958</td>\n",
       "    </tr>\n",
       "    <tr>\n",
       "      <th>13</th>\n",
       "      <td>area_se</td>\n",
       "      <td>69.307880</td>\n",
       "    </tr>\n",
       "    <tr>\n",
       "      <th>14</th>\n",
       "      <td>smoothness_se</td>\n",
       "      <td>26.303890</td>\n",
       "    </tr>\n",
       "    <tr>\n",
       "      <th>15</th>\n",
       "      <td>compactness_se</td>\n",
       "      <td>42.967244</td>\n",
       "    </tr>\n",
       "    <tr>\n",
       "      <th>16</th>\n",
       "      <td>concavity_se</td>\n",
       "      <td>32.832792</td>\n",
       "    </tr>\n",
       "    <tr>\n",
       "      <th>17</th>\n",
       "      <td>concave points_se</td>\n",
       "      <td>60.914729</td>\n",
       "    </tr>\n",
       "    <tr>\n",
       "      <th>18</th>\n",
       "      <td>symmetry_se</td>\n",
       "      <td>38.071236</td>\n",
       "    </tr>\n",
       "    <tr>\n",
       "      <th>19</th>\n",
       "      <td>fractal_dimension_se</td>\n",
       "      <td>26.714810</td>\n",
       "    </tr>\n",
       "    <tr>\n",
       "      <th>20</th>\n",
       "      <td>radius_worst</td>\n",
       "      <td>9712.730456</td>\n",
       "    </tr>\n",
       "    <tr>\n",
       "      <th>21</th>\n",
       "      <td>texture_worst</td>\n",
       "      <td>409.250204</td>\n",
       "    </tr>\n",
       "    <tr>\n",
       "      <th>22</th>\n",
       "      <td>perimeter_worst</td>\n",
       "      <td>4401.875662</td>\n",
       "    </tr>\n",
       "    <tr>\n",
       "      <th>23</th>\n",
       "      <td>area_worst</td>\n",
       "      <td>1188.157645</td>\n",
       "    </tr>\n",
       "    <tr>\n",
       "      <th>24</th>\n",
       "      <td>smoothness_worst</td>\n",
       "      <td>354.383848</td>\n",
       "    </tr>\n",
       "    <tr>\n",
       "      <th>25</th>\n",
       "      <td>compactness_worst</td>\n",
       "      <td>124.353806</td>\n",
       "    </tr>\n",
       "    <tr>\n",
       "      <th>26</th>\n",
       "      <td>concavity_worst</td>\n",
       "      <td>84.322672</td>\n",
       "    </tr>\n",
       "    <tr>\n",
       "      <th>27</th>\n",
       "      <td>concave points_worst</td>\n",
       "      <td>150.530036</td>\n",
       "    </tr>\n",
       "    <tr>\n",
       "      <th>28</th>\n",
       "      <td>symmetry_worst</td>\n",
       "      <td>226.301214</td>\n",
       "    </tr>\n",
       "    <tr>\n",
       "      <th>29</th>\n",
       "      <td>fractal_dimension_worst</td>\n",
       "      <td>394.786176</td>\n",
       "    </tr>\n",
       "  </tbody>\n",
       "</table>\n",
       "</div>"
      ],
      "text/plain": [
       "                  variables           VIF\n",
       "0               radius_mean  68140.689954\n",
       "1              texture_mean    275.029682\n",
       "2            perimeter_mean  62322.593659\n",
       "3                 area_mean   1396.906507\n",
       "4           smoothness_mean    386.134933\n",
       "5          compactness_mean    201.658245\n",
       "6            concavity_mean    166.489708\n",
       "7       concave points_mean    153.353762\n",
       "8             symmetry_mean    201.007699\n",
       "9    fractal_dimension_mean    601.919448\n",
       "10                radius_se    237.408234\n",
       "11               texture_se     34.534966\n",
       "12             perimeter_se    215.064958\n",
       "13                  area_se     69.307880\n",
       "14            smoothness_se     26.303890\n",
       "15           compactness_se     42.967244\n",
       "16             concavity_se     32.832792\n",
       "17        concave points_se     60.914729\n",
       "18              symmetry_se     38.071236\n",
       "19     fractal_dimension_se     26.714810\n",
       "20             radius_worst   9712.730456\n",
       "21            texture_worst    409.250204\n",
       "22          perimeter_worst   4401.875662\n",
       "23               area_worst   1188.157645\n",
       "24         smoothness_worst    354.383848\n",
       "25        compactness_worst    124.353806\n",
       "26          concavity_worst     84.322672\n",
       "27     concave points_worst    150.530036\n",
       "28           symmetry_worst    226.301214\n",
       "29  fractal_dimension_worst    394.786176"
      ]
     },
     "execution_count": 15,
     "metadata": {},
     "output_type": "execute_result"
    }
   ],
   "source": [
    "#show multicollinearity in features\n",
    "def vif(X):\n",
    "    vifDF = pd.DataFrame()\n",
    "    vifDF[\"variables\"] = X.columns\n",
    "    vifDF[\"VIF\"] = [variance_inflation_factor(X.values, i) for i in range(X.shape[1])]\n",
    "    return vifDF\n",
    "\n",
    "vif(features)"
   ]
  },
  {
   "cell_type": "markdown",
   "id": "a631c5f9",
   "metadata": {},
   "source": [
    "El codi executat a la cel·la superior mostra els factors d'inflació de la variança (VIF) per a cada columna. Quan més alt és aquest valor, es considera que hi ha més colinearitat entre variables, i a partir d'un VIF de 5 hi ha colinearitat. Té sentit que hi hagi colinearitat perquè el dataset recull la mitjana, l'error estàndar i el valor més alt per a una mateixa variable, 10 cops diferents.\n",
    "Aquest resultat indica que és possible que el rendiment del model es beneficii aplicant-li anàlisi de components principals (PCA)."
   ]
  },
  {
   "cell_type": "markdown",
   "id": "15214314",
   "metadata": {},
   "source": [
    "## Entrenament de models"
   ]
  },
  {
   "cell_type": "markdown",
   "id": "3bdb46ac",
   "metadata": {},
   "source": [
    "Es dividirà el dataset en train i test, i s'aplicarà Robust Scaler per escalar les variables. A més, s'aplicarà PCA i s'entrenaran els models amb i sense PCA per avaluar els resultats. Es probaran els algoritmes Random Forest, Regressió Logística, Support Vector Machine i K Neighbors. "
   ]
  },
  {
   "cell_type": "code",
   "execution_count": 11,
   "id": "72927d13",
   "metadata": {
    "ExecuteTime": {
     "end_time": "2022-07-21T09:16:43.481031Z",
     "start_time": "2022-07-21T09:16:43.464994Z"
    }
   },
   "outputs": [],
   "source": [
    "#split into test and train\n",
    "X_train, X_test, y_train, y_test = train_test_split(features, df.diagnosis, test_size = 0.3, \n",
    "                                                    random_state = 8)"
   ]
  },
  {
   "cell_type": "code",
   "execution_count": 20,
   "id": "cc52b665",
   "metadata": {
    "ExecuteTime": {
     "end_time": "2022-07-21T08:43:03.173748Z",
     "start_time": "2022-07-21T08:43:02.930746Z"
    },
    "scrolled": true
   },
   "outputs": [
    {
     "data": {
      "image/png": "[encoded data removed]",
      "text/plain": [
       "<Figure size 432x288 with 1 Axes>"
      ]
     },
     "metadata": {
      "needs_background": "light"
     },
     "output_type": "display_data"
    }
   ],
   "source": [
    "pca = PCA().fit(features)\n",
    "plt.plot(np.cumsum(pca.explained_variance_ratio_), marker = \"o\")\n",
    "plt.axhline(0.99, color = \"r\", linestyle = \"--\")\n",
    "plt.xlim([0, 5])\n",
    "plt.xlabel(\"Número de components\")\n",
    "plt.ylabel(\"Variança acumulada explicada\")\n",
    "plt.show()"
   ]
  },
  {
   "cell_type": "markdown",
   "id": "8d86300c",
   "metadata": {},
   "source": [
    "Com que hi ha molta colinearitat, es pot agafar només 1 component pel PCA amb més d'un 99% de variança acumulada explicada. "
   ]
  },
  {
   "cell_type": "markdown",
   "id": "7aafe0d1",
   "metadata": {},
   "source": [
    "A continuació, es crearan pipelines per cada possibilitat de model, amb Regressió Logística, K Neighbors, Support Vector Machine i Random Forest, aplicant Robust Scaler i amb i sense PCA. Després s'entrenara en un bucle cada model, s'aplicarà GridSearch per trobar els millors hiperparàmetres i es calcularà la puntuació de validació interna (cross validation). Aquestes dades es guardaran en un dataframe per poder accedir-hi després i poder comparar els resultats per escollir el millor odel per aquest cas. "
   ]
  },
  {
   "cell_type": "code",
   "execution_count": 5,
   "id": "722678da",
   "metadata": {
    "ExecuteTime": {
     "end_time": "2022-07-21T09:16:18.483327Z",
     "start_time": "2022-07-21T09:16:18.467332Z"
    }
   },
   "outputs": [],
   "source": [
    "models = [\n",
    "    (\"LR\", LogisticRegression()),\n",
    "    (\"KNN\", KNeighborsClassifier()),\n",
    "    (\"SVM\", SVC(random_state = 8, probability = True)),\n",
    "    (\"RF\", RandomForestClassifier(max_depth = 3, random_state = 8))\n",
    "    ]\n",
    "scalers = [\n",
    "    (\"RobustScaler\", RobustScaler())\n",
    "          ]\n",
    "pca = [\n",
    "    (\"PCA\", PCA(n_components = 1))\n",
    "      ]"
   ]
  },
  {
   "cell_type": "code",
   "execution_count": 6,
   "id": "151af3cd",
   "metadata": {
    "ExecuteTime": {
     "end_time": "2022-07-21T09:16:18.973655Z",
     "start_time": "2022-07-21T09:16:18.957667Z"
    }
   },
   "outputs": [],
   "source": [
    "#create pipelines\n",
    "pipelines = []\n",
    "#loop for model scaled\n",
    "for model in models:\n",
    "    for scalar in scalers:\n",
    "        model_name = scalar[0] + \"_\" + model[0]\n",
    "        pipelines.append((model_name, Pipeline([scalar, model])))\n",
    "\n",
    "#loop for model scaled and PCA\n",
    "for model in models:\n",
    "    for scalar in scalers:\n",
    "        for p in pca:\n",
    "            model_name = scalar[0] + \"_\" + model[0] + \"_\" + (p[0])\n",
    "            pipelines.append((model_name, Pipeline([scalar, p, model])))"
   ]
  },
  {
   "cell_type": "code",
   "execution_count": 8,
   "id": "789d95e5",
   "metadata": {
    "ExecuteTime": {
     "end_time": "2022-07-21T09:16:20.231897Z",
     "start_time": "2022-07-21T09:16:20.207914Z"
    }
   },
   "outputs": [],
   "source": [
    "#logistic regression hyperparameters\n",
    "C = [x for x in np.arange(0.1, 3, 0.2)]\n",
    "penalty = [\"l2\"]\n",
    "fit_intercept = [True, False]\n",
    "lr_params = {\"LR__C\": C,\n",
    "             \"LR__penalty\": penalty,\n",
    "             \"LR__fit_intercept\": fit_intercept\n",
    "            }\n",
    "\n",
    "#kneighbors hyperparameters\n",
    "n_neighbors = [int(x) for x in np.linspace(start = 1, stop = 20, num = 2)]\n",
    "weights = [\"uniform\", \"distance\"]\n",
    "algorithm = [\"auto\", \"ball_tree\", \"kd_tree\", \"brute\"]\n",
    "leaf_size = [int(x) for x in np.linspace(start = 5, stop = 50, num = 2)]\n",
    "p = [int(x) for x in np.linspace(start = 1, stop = 4, num = 1)]\n",
    "knn_params = {\"KNN__n_neighbors\": n_neighbors,\n",
    "              \"KNN__weights\": weights,\n",
    "              \"KNN__algorithm\": algorithm,\n",
    "              \"KNN__leaf_size\": leaf_size,\n",
    "              \"KNN__p\": p\n",
    "             }\n",
    "\n",
    "#SVM hyperparameters\n",
    "C = [x for x in np.arange(0.1, 2, 0.2)]\n",
    "kernel = [\"linear\", \"poly\", \"rbf\", \"sigmoid\"]\n",
    "svm_params = {\"SVM__C\": C,\n",
    "              \"SVM__kernel\": kernel\n",
    "             }\n",
    "\n",
    "#random forest hyperparameters\n",
    "n_estimators = [int(x) for x in np.linspace(start = 3, stop = 20, num = 3)]\n",
    "max_features = [\"auto\", \"sqrt\"]\n",
    "max_depth = [int(x) for x in np.linspace(10, 110, num = 11)]\n",
    "max_depth.append(None)\n",
    "min_samples_split = [2, 5, 10]\n",
    "min_samples_leaf = [1, 2, 4]\n",
    "rf_params = {\"RF__n_estimators\": n_estimators,\n",
    "             \"RF__max_features\": max_features,\n",
    "             \"RF__max_depth\": max_depth,\n",
    "             \"RF__min_samples_split\": min_samples_split,\n",
    "             \"RF__min_samples_leaf\": min_samples_leaf\n",
    "            }"
   ]
  },
  {
   "cell_type": "code",
   "execution_count": 9,
   "id": "92341a89",
   "metadata": {
    "ExecuteTime": {
     "end_time": "2022-07-21T09:16:21.583181Z",
     "start_time": "2022-07-21T09:16:21.575186Z"
    }
   },
   "outputs": [],
   "source": [
    "#dictionary with all the hyperparameters\n",
    "hypertuned_params = {\"LR\": lr_params,\n",
    "                     \"KNN\": knn_params,\n",
    "                     \"SVM\": svm_params,\n",
    "                     \"RF\": rf_params\n",
    "                    }"
   ]
  },
  {
   "cell_type": "code",
   "execution_count": 12,
   "id": "006db7ce",
   "metadata": {
    "ExecuteTime": {
     "end_time": "2022-07-21T09:38:33.854447Z",
     "start_time": "2022-07-21T09:16:47.516323Z"
    }
   },
   "outputs": [
    {
     "name": "stderr",
     "output_type": "stream",
     "text": [
      "\r",
      "  0%|          | 0/100 [00:00<?, ?it/s]"
     ]
    },
    {
     "name": "stdout",
     "output_type": "stream",
     "text": [
      "RobustScaler_LR: 0.966494 (0.020532)\n",
      "RobustScaler_KNN: 0.921223 (0.031340)\n",
      "RobustScaler_SVM: 0.945030 (0.020084)\n",
      "RobustScaler_RF: 0.919959 (0.039313)\n",
      "RobustScaler_LR_PCA: 0.884684 (0.043068)\n",
      "RobustScaler_KNN_PCA: 0.891316 (0.038900)\n",
      "RobustScaler_SVM_PCA: 0.884985 (0.026976)\n"
     ]
    },
    {
     "name": "stderr",
     "output_type": "stream",
     "text": [
      "\r",
      "  0%|          | 0/100 [21:46<?, ?it/s]"
     ]
    },
    {
     "name": "stdout",
     "output_type": "stream",
     "text": [
      "RobustScaler_RF_PCA: 0.892797 (0.038950)\n"
     ]
    },
    {
     "name": "stderr",
     "output_type": "stream",
     "text": [
      "\n"
     ]
    }
   ],
   "source": [
    "# list that contains the rows for the dataframe\n",
    "rows_list = []\n",
    "\n",
    "#lists for the pipeline results\n",
    "results = []\n",
    "names = []\n",
    "test_scores = []\n",
    "parameters = []\n",
    "\n",
    "#for gridsearch and cross validation score \n",
    "cv = KFold(n_splits = 5)\n",
    "with tqdm(total = 100) as pbar:\n",
    "    for name, model in pipelines:\n",
    "\n",
    "        #get model names\n",
    "        model_name = name.split(\"_\")[1]\n",
    "        if \"-\" in model_name:\n",
    "            model_name = model_name.split(\"-\")[0]\n",
    "        #get hyper parameters\n",
    "        if model_name in hypertuned_params.keys():\n",
    "            random_grid = hypertuned_params[model_name]\n",
    "        else:\n",
    "            continue\n",
    "\n",
    "        #train nested cross validation and gridsearch\n",
    "        clf = GridSearchCV(estimator = model, param_grid = random_grid, cv = cv, scoring = \"f1_macro\",\n",
    "                           error_score = \"raise\")\n",
    "        clf.fit(X_train, y_train)\n",
    "        cv_results = cross_val_score(clf, X_train, y_train, cv = cv, scoring = \"f1_macro\")\n",
    "        results.append(cv_results)\n",
    "        names.append(name)\n",
    "        parameters.append(clf.best_params_)\n",
    "\n",
    "        #print cross validation results of the best classifier\n",
    "        msg = \"%s: %f (%f)\" % (name, cv_results.mean(), cv_results.std())\n",
    "        print(msg)\n",
    "\n",
    "        #fit on train and predict on test\n",
    "        model.fit(X_train, y_train)\n",
    "        y_pred = model.predict(X_test)\n",
    "        curr_test_score = f1_score(y_test, y_pred, average = \"macro\")\n",
    "        test_scores.append(curr_test_score)\n",
    "\n",
    "        #add to dictionary for final dataframe\n",
    "        results_dict = {\"Classifier_Name\": name,\n",
    "                        \"CV_mean\": cv_results.mean(),\n",
    "                        \"CV_std\": cv_results.std(),\n",
    "                        \"F1_score\": curr_test_score,\n",
    "                        \"Parameters\": parameters,\n",
    "                       }\n",
    "        rows_list.append(results_dict)"
   ]
  },
  {
   "cell_type": "code",
   "execution_count": 13,
   "id": "b0306bef",
   "metadata": {
    "ExecuteTime": {
     "end_time": "2022-07-21T09:44:58.397670Z",
     "start_time": "2022-07-21T09:44:58.384672Z"
    }
   },
   "outputs": [],
   "source": [
    "#create dataframe with dictionary content\n",
    "df_results = pd.DataFrame(rows_list)"
   ]
  },
  {
   "cell_type": "code",
   "execution_count": 14,
   "id": "e4ebe514",
   "metadata": {
    "ExecuteTime": {
     "end_time": "2022-07-21T09:45:17.879971Z",
     "start_time": "2022-07-21T09:45:17.407668Z"
    }
   },
   "outputs": [],
   "source": [
    "#save to csv to access it later\n",
    "df_results.to_csv(\"results_f1.csv\")"
   ]
  },
  {
   "cell_type": "markdown",
   "id": "220ba254",
   "metadata": {},
   "source": [
    "## Selecció de model"
   ]
  },
  {
   "cell_type": "code",
   "execution_count": 22,
   "id": "8d199e3f",
   "metadata": {
    "ExecuteTime": {
     "end_time": "2022-07-21T09:55:10.543709Z",
     "start_time": "2022-07-21T09:55:10.522766Z"
    },
    "scrolled": true
   },
   "outputs": [
    {
     "data": {
      "text/html": [
       "<div>\n",
       "<style scoped>\n",
       "    .dataframe tbody tr th:only-of-type {\n",
       "        vertical-align: middle;\n",
       "    }\n",
       "\n",
       "    .dataframe tbody tr th {\n",
       "        vertical-align: top;\n",
       "    }\n",
       "\n",
       "    .dataframe thead th {\n",
       "        text-align: right;\n",
       "    }\n",
       "</style>\n",
       "<table border=\"1\" class=\"dataframe\">\n",
       "  <thead>\n",
       "    <tr style=\"text-align: right;\">\n",
       "      <th></th>\n",
       "      <th>Classifier_Name</th>\n",
       "      <th>CV_mean</th>\n",
       "      <th>CV_std</th>\n",
       "      <th>F1_score</th>\n",
       "    </tr>\n",
       "  </thead>\n",
       "  <tbody>\n",
       "    <tr>\n",
       "      <th>0</th>\n",
       "      <td>RobustScaler_LR</td>\n",
       "      <td>0.966494</td>\n",
       "      <td>0.020532</td>\n",
       "      <td>0.969623</td>\n",
       "    </tr>\n",
       "    <tr>\n",
       "      <th>1</th>\n",
       "      <td>RobustScaler_KNN</td>\n",
       "      <td>0.921223</td>\n",
       "      <td>0.031340</td>\n",
       "      <td>0.946678</td>\n",
       "    </tr>\n",
       "    <tr>\n",
       "      <th>2</th>\n",
       "      <td>RobustScaler_SVM</td>\n",
       "      <td>0.945030</td>\n",
       "      <td>0.020084</td>\n",
       "      <td>0.969623</td>\n",
       "    </tr>\n",
       "    <tr>\n",
       "      <th>3</th>\n",
       "      <td>RobustScaler_RF</td>\n",
       "      <td>0.919959</td>\n",
       "      <td>0.039313</td>\n",
       "      <td>0.946332</td>\n",
       "    </tr>\n",
       "    <tr>\n",
       "      <th>4</th>\n",
       "      <td>RobustScaler_LR_PCA</td>\n",
       "      <td>0.884684</td>\n",
       "      <td>0.043068</td>\n",
       "      <td>0.907014</td>\n",
       "    </tr>\n",
       "    <tr>\n",
       "      <th>5</th>\n",
       "      <td>RobustScaler_KNN_PCA</td>\n",
       "      <td>0.891316</td>\n",
       "      <td>0.038900</td>\n",
       "      <td>0.891516</td>\n",
       "    </tr>\n",
       "    <tr>\n",
       "      <th>6</th>\n",
       "      <td>RobustScaler_SVM_PCA</td>\n",
       "      <td>0.884985</td>\n",
       "      <td>0.026976</td>\n",
       "      <td>0.899634</td>\n",
       "    </tr>\n",
       "    <tr>\n",
       "      <th>7</th>\n",
       "      <td>RobustScaler_RF_PCA</td>\n",
       "      <td>0.892797</td>\n",
       "      <td>0.038950</td>\n",
       "      <td>0.899634</td>\n",
       "    </tr>\n",
       "  </tbody>\n",
       "</table>\n",
       "</div>"
      ],
      "text/plain": [
       "        Classifier_Name   CV_mean    CV_std  F1_score\n",
       "0       RobustScaler_LR  0.966494  0.020532  0.969623\n",
       "1      RobustScaler_KNN  0.921223  0.031340  0.946678\n",
       "2      RobustScaler_SVM  0.945030  0.020084  0.969623\n",
       "3       RobustScaler_RF  0.919959  0.039313  0.946332\n",
       "4   RobustScaler_LR_PCA  0.884684  0.043068  0.907014\n",
       "5  RobustScaler_KNN_PCA  0.891316  0.038900  0.891516\n",
       "6  RobustScaler_SVM_PCA  0.884985  0.026976  0.899634\n",
       "7   RobustScaler_RF_PCA  0.892797  0.038950  0.899634"
      ]
     },
     "execution_count": 22,
     "metadata": {},
     "output_type": "execute_result"
    }
   ],
   "source": [
    "df_results.drop([\"Parameters\"], axis = 1)"
   ]
  },
  {
   "cell_type": "code",
   "execution_count": 15,
   "id": "356ad0f4",
   "metadata": {
    "ExecuteTime": {
     "end_time": "2022-07-21T09:45:27.695270Z",
     "start_time": "2022-07-21T09:45:27.678578Z"
    }
   },
   "outputs": [
    {
     "data": {
      "text/plain": [
       "Classifier_Name                                      RobustScaler_LR\n",
       "CV_mean                                                     0.966494\n",
       "CV_std                                                      0.020532\n",
       "F1_score                                                    0.969623\n",
       "Parameters         [{'LR__C': 0.30000000000000004, 'LR__fit_inter...\n",
       "Name: 0, dtype: object"
      ]
     },
     "execution_count": 15,
     "metadata": {},
     "output_type": "execute_result"
    }
   ],
   "source": [
    "#get row with highest f1 score \n",
    "df_results.loc[df_results[\"F1_score\"].idxmax()]"
   ]
  },
  {
   "cell_type": "markdown",
   "id": "a9865e2c",
   "metadata": {},
   "source": [
    "Els resultats sense aplicar PCA són superiors en tots els casos. Com que l'objectiu del model és aconseguir el F1 macro més alt, el model amb Regressió Logística i el model amb Support Vector Machine semblen els millors. De totes maneres, l'indicador de cross validation és més alt en el cas de la Regressió Logística, i aquest sembla el millor model. Ara es reentrenara amb totes les dades del train.csv per poder predir els diagnostics del test.csv millor."
   ]
  },
  {
   "cell_type": "markdown",
   "id": "099c7efb",
   "metadata": {},
   "source": [
    "## Model final"
   ]
  },
  {
   "cell_type": "code",
   "execution_count": 32,
   "id": "bf80b58e",
   "metadata": {
    "ExecuteTime": {
     "end_time": "2022-07-21T09:59:36.186405Z",
     "start_time": "2022-07-21T09:59:31.764345Z"
    }
   },
   "outputs": [],
   "source": [
    "#gridsearch for the definitive model\n",
    "clf = GridSearchCV(estimator = pipelines[0][1], param_grid = lr_params, cv = cv, scoring = \"f1_macro\")\n",
    "\n",
    "#retrain with all the data\n",
    "result = clf.fit(features, df.diagnosis)"
   ]
  },
  {
   "cell_type": "code",
   "execution_count": 33,
   "id": "06e4126d",
   "metadata": {
    "ExecuteTime": {
     "end_time": "2022-07-21T10:00:35.141227Z",
     "start_time": "2022-07-21T10:00:35.124534Z"
    },
    "scrolled": true
   },
   "outputs": [
    {
     "name": "stdout",
     "output_type": "stream",
     "text": [
      "F1 macro:  0.9738\n"
     ]
    }
   ],
   "source": [
    "print(\"F1 macro: \", result.best_score_.round(4))"
   ]
  },
  {
   "cell_type": "markdown",
   "id": "df237f20",
   "metadata": {},
   "source": [
    "La mètrica F1 macro ha augmentat després de reentrenar el model amb totes les dades, el que és una bona senyal. "
   ]
  },
  {
   "cell_type": "code",
   "execution_count": 44,
   "id": "044d1215",
   "metadata": {
    "ExecuteTime": {
     "end_time": "2022-07-21T10:05:15.278560Z",
     "start_time": "2022-07-21T10:05:15.264555Z"
    }
   },
   "outputs": [],
   "source": [
    "#read test file\n",
    "df2 = pd.read_csv(\"test.csv\")\n",
    "\n",
    "#predict target on test data\n",
    "prediction = clf.predict(df2)\n",
    "\n",
    "#create dataframe with predictions\n",
    "pred_df = pd.DataFrame(data = prediction, columns = [\"diagnosis\"])\n",
    "\n",
    "#save as csv \n",
    "pred_df.to_csv(\"predictions.csv\")"
   ]
  }
 ],
 "metadata": {
  "kernelspec": {
   "display_name": "Python 3 (ipykernel)",
   "language": "python",
   "name": "python3"
  },
  "language_info": {
   "codemirror_mode": {
    "name": "ipython",
    "version": 3
   },
   "file_extension": ".py",
   "mimetype": "text/x-python",
   "name": "python",
   "nbconvert_exporter": "python",
   "pygments_lexer": "ipython3",
   "version": "3.9.7"
  },
  "toc": {
   "base_numbering": 1,
   "nav_menu": {},
   "number_sections": true,
   "sideBar": true,
   "skip_h1_title": false,
   "title_cell": "Table of Contents",
   "title_sidebar": "Contents",
   "toc_cell": false,
   "toc_position": {},
   "toc_section_display": true,
   "toc_window_display": false
  }
 },
 "nbformat": 4,
 "nbformat_minor": 5
}
